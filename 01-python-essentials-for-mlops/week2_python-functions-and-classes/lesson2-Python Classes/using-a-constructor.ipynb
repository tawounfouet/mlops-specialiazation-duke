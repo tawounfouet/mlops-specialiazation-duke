{
 "cells": [
  {
   "cell_type": "markdown",
   "metadata": {},
   "source": [
    "\n",
    "# Using a constructor\n",
    "\n",
    "You already saw how class attributes can be tricky to work with. It is fine to use them, but they have potential to cause problems because they change state. A constructor can help with many of those problems, and allows you to set particulars about the object when creating it."
   ]
  },
  {
   "cell_type": "code",
   "execution_count": 1,
   "metadata": {},
   "outputs": [],
   "source": [
    "# the constructor in Python is with the special method called __init__\n",
    "\n",
    "class Dog:\n",
    "\n",
    "    def __init__(self):\n",
    "        self.is_animal = True"
   ]
  },
  {
   "cell_type": "markdown",
   "metadata": {},
   "source": [
    "`self` was used again with these! not only `__init__` is a special method but it is using self for its variables. "
   ]
  },
  {
   "cell_type": "code",
   "execution_count": 2,
   "metadata": {},
   "outputs": [
    {
     "name": "stdout",
     "output_type": "stream",
     "text": [
      "Rufus is an animal? True\n",
      "Sparky is an animal? True\n"
     ]
    }
   ],
   "source": [
    "# how is this different from a class attribute? These instance variables are only for the object and you can't affect other objects\n",
    "rufus = Dog()\n",
    "sparky = Dog()\n",
    "\n",
    "print(\"Rufus is an animal?\", rufus.is_animal)\n",
    "print(\"Sparky is an animal?\", sparky.is_animal)"
   ]
  },
  {
   "cell_type": "code",
   "execution_count": 3,
   "metadata": {},
   "outputs": [
    {
     "name": "stdout",
     "output_type": "stream",
     "text": [
      "Rufus is an animal? False\n",
      "Sparky is an animal? True\n"
     ]
    }
   ],
   "source": [
    "rufus.is_animal = False\n",
    "print(\"Rufus is an animal?\", rufus.is_animal)\n",
    "print(\"Sparky is an animal?\", sparky.is_animal)"
   ]
  },
  {
   "cell_type": "markdown",
   "metadata": {},
   "source": [
    "## State\n",
    "Once an instance of a class (which creates an object) is created, that object has state. `self` is what allows these variables to refer to each other. But just like functions you can set them from the beginning."
   ]
  },
  {
   "cell_type": "code",
   "execution_count": 4,
   "metadata": {},
   "outputs": [],
   "source": [
    "# pass arguments and keyword arguments to a class\n",
    "\n",
    "class Animal:\n",
    "\n",
    "    def __init__(self, name, legs=4, barks=True):\n",
    "        self.name = name\n",
    "        self.legs = legs\n",
    "        self.barks = barks\n",
    "        \n",
    "    # there is a bug in here!\n",
    "    def info(self):\n",
    "        print(f\"This is an animal named {name}, has {legs} legs\")\n",
    "        if barks:\n",
    "            print(\"And this one barks!\")\n",
    "        else:\n",
    "            print(\"It doesn't bark at all\")"
   ]
  },
  {
   "cell_type": "code",
   "execution_count": 5,
   "metadata": {},
   "outputs": [
    {
     "ename": "NameError",
     "evalue": "name 'name' is not defined",
     "output_type": "error",
     "traceback": [
      "\u001b[0;31m---------------------------------------------------------------------------\u001b[0m",
      "\u001b[0;31mNameError\u001b[0m                                 Traceback (most recent call last)",
      "Cell \u001b[0;32mIn[5], line 2\u001b[0m\n\u001b[1;32m      1\u001b[0m bunny \u001b[38;5;241m=\u001b[39m Animal(\u001b[38;5;124m\"\u001b[39m\u001b[38;5;124mbuster\u001b[39m\u001b[38;5;124m\"\u001b[39m, barks\u001b[38;5;241m=\u001b[39m\u001b[38;5;28;01mFalse\u001b[39;00m)\n\u001b[0;32m----> 2\u001b[0m \u001b[43mbunny\u001b[49m\u001b[38;5;241;43m.\u001b[39;49m\u001b[43minfo\u001b[49m\u001b[43m(\u001b[49m\u001b[43m)\u001b[49m\n\u001b[1;32m      3\u001b[0m \u001b[38;5;66;03m# if the bug is not fixed in the class, this will cause a NameError\u001b[39;00m\n",
      "Cell \u001b[0;32mIn[4], line 12\u001b[0m, in \u001b[0;36mAnimal.info\u001b[0;34m(self)\u001b[0m\n\u001b[1;32m     11\u001b[0m \u001b[38;5;28;01mdef\u001b[39;00m \u001b[38;5;21minfo\u001b[39m(\u001b[38;5;28mself\u001b[39m):\n\u001b[0;32m---> 12\u001b[0m     \u001b[38;5;28mprint\u001b[39m(\u001b[38;5;124mf\u001b[39m\u001b[38;5;124m\"\u001b[39m\u001b[38;5;124mThis is an animal named \u001b[39m\u001b[38;5;132;01m{\u001b[39;00mname\u001b[38;5;132;01m}\u001b[39;00m\u001b[38;5;124m, has \u001b[39m\u001b[38;5;132;01m{\u001b[39;00mlegs\u001b[38;5;132;01m}\u001b[39;00m\u001b[38;5;124m legs\u001b[39m\u001b[38;5;124m\"\u001b[39m)\n\u001b[1;32m     13\u001b[0m     \u001b[38;5;28;01mif\u001b[39;00m barks:\n\u001b[1;32m     14\u001b[0m         \u001b[38;5;28mprint\u001b[39m(\u001b[38;5;124m\"\u001b[39m\u001b[38;5;124mAnd this one barks!\u001b[39m\u001b[38;5;124m\"\u001b[39m)\n",
      "\u001b[0;31mNameError\u001b[0m: name 'name' is not defined"
     ]
    }
   ],
   "source": [
    "bunny = Animal(\"buster\", barks=False)\n",
    "bunny.info()\n",
    "# if the bug is not fixed in the class, this will cause a NameError"
   ]
  },
  {
   "cell_type": "code",
   "execution_count": 6,
   "metadata": {},
   "outputs": [
    {
     "name": "stdout",
     "output_type": "stream",
     "text": [
      "buster\n",
      "4\n",
      "False\n"
     ]
    }
   ],
   "source": [
    "# it is still possible to try to reach to these variables from outside of the class as well\n",
    "print(bunny.name)\n",
    "print(bunny.legs)\n",
    "print(bunny.barks)"
   ]
  },
  {
   "cell_type": "code",
   "execution_count": 7,
   "metadata": {},
   "outputs": [],
   "source": [
    "# pass arguments and keyword arguments to a class\n",
    "\n",
    "class Animal:\n",
    "\n",
    "    def __init__(self, name, legs=4, barks=True):\n",
    "        self.name = name\n",
    "        self.legs = legs\n",
    "        self.barks = barks\n",
    "        \n",
    "    # there is a bug in here!\n",
    "    def info(self):\n",
    "        print(f\"This is an animal named {self.name}, has {self.legs} legs\")\n",
    "        if self.barks:\n",
    "            print(\"And this one barks!\")\n",
    "        else:\n",
    "            print(\"It doesn't bark at all\")"
   ]
  },
  {
   "cell_type": "code",
   "execution_count": 8,
   "metadata": {},
   "outputs": [
    {
     "name": "stdout",
     "output_type": "stream",
     "text": [
      "This is an animal named buster, has 4 legs\n",
      "It doesn't bark at all\n"
     ]
    }
   ],
   "source": [
    "bunny = Animal(\"buster\", barks=False)\n",
    "bunny.info()"
   ]
  },
  {
   "cell_type": "code",
   "execution_count": null,
   "metadata": {},
   "outputs": [],
   "source": []
  }
 ],
 "metadata": {
  "kernelspec": {
   "display_name": "Python 3.8.9 64-bit",
   "language": "python",
   "name": "python3"
  },
  "language_info": {
   "codemirror_mode": {
    "name": "ipython",
    "version": 3
   },
   "file_extension": ".py",
   "mimetype": "text/x-python",
   "name": "python",
   "nbconvert_exporter": "python",
   "pygments_lexer": "ipython3",
   "version": "3.10.3"
  },
  "orig_nbformat": 4,
  "vscode": {
   "interpreter": {
    "hash": "31f2aee4e71d21fbe5cf8b01ff0e069b9275f58929596ceb00d14d90e3e16cd6"
   }
  }
 },
 "nbformat": 4,
 "nbformat_minor": 2
}
