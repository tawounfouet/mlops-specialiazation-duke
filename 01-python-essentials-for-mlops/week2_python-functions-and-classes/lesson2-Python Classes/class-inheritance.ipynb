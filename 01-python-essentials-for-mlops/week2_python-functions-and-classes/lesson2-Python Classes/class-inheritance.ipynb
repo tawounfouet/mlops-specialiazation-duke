{
 "cells": [
  {
   "cell_type": "markdown",
   "metadata": {},
   "source": [
    "## Class inheritance\n",
    "\n",
    "You might come across inheritance when working with Python. What it means is that a base (or parent) class can be a scaffold for a another (child) class. It helps when trying to have many methods and many basic behavior and avoid boilerplate code.\n",
    "\n",
    "It is useful when you need to create many classes that share the same behavior."
   ]
  },
  {
   "cell_type": "code",
   "execution_count": 1,
   "metadata": {},
   "outputs": [],
   "source": [
    "# create a base class for house pets\n",
    "\n",
    "class Pet:\n",
    "\n",
    "    def eat(self):\n",
    "        self.food = self.food - self.appetite\n",
    "        print(f\"Ate {self.appetite} of food, have {self.food} left\")"
   ]
  },
  {
   "cell_type": "code",
   "execution_count": 2,
   "metadata": {},
   "outputs": [],
   "source": [
    "# create to child classes for other house pets like cat and dog and parakeet\n",
    "\n",
    "class Parakeet(Pet):\n",
    "\n",
    "    def __init__(self):\n",
    "        self.food = 100\n",
    "        self.appetite = 1\n",
    "\n",
    "class Dog(Pet):\n",
    "\n",
    "    def __init__(self):\n",
    "        self.food = 400\n",
    "        self.appetite = 7\n",
    "\n",
    "perry = Parakeet()\n",
    "rufus = Dog()\n"
   ]
  },
  {
   "cell_type": "code",
   "execution_count": null,
   "metadata": {},
   "outputs": [],
   "source": [
    "perry.eat()\n",
    "rufus.eat()"
   ]
  },
  {
   "cell_type": "code",
   "execution_count": 3,
   "metadata": {},
   "outputs": [
    {
     "name": "stdout",
     "output_type": "stream",
     "text": [
      "appetite\n",
      "eat\n",
      "food\n"
     ]
    }
   ],
   "source": [
    "# demonstrate how other classes have methods that automatically appear\n",
    "for attribute in dir(rufus):\n",
    "    if attribute.startswith('_'):\n",
    "        continue\n",
    "    print(attribute)"
   ]
  },
  {
   "cell_type": "code",
   "execution_count": 4,
   "metadata": {},
   "outputs": [],
   "source": [
    "# use unittest.TestCase as a real world example\n",
    "import unittest\n",
    "\n",
    "class Testing(unittest.TestCase):\n",
    "    pass\n",
    "\n",
    "tests = Testing()"
   ]
  },
  {
   "cell_type": "code",
   "execution_count": 5,
   "metadata": {},
   "outputs": [
    {
     "name": "stdout",
     "output_type": "stream",
     "text": [
      "addClassCleanup\n",
      "addCleanup\n",
      "addTypeEqualityFunc\n",
      "assertAlmostEqual\n",
      "assertAlmostEquals\n",
      "assertCountEqual\n",
      "assertDictContainsSubset\n",
      "assertDictEqual\n",
      "assertEqual\n",
      "assertEquals\n",
      "assertFalse\n",
      "assertGreater\n",
      "assertGreaterEqual\n",
      "assertIn\n",
      "assertIs\n",
      "assertIsInstance\n",
      "assertIsNone\n",
      "assertIsNot\n",
      "assertIsNotNone\n",
      "assertLess\n",
      "assertLessEqual\n",
      "assertListEqual\n",
      "assertLogs\n",
      "assertMultiLineEqual\n",
      "assertNoLogs\n",
      "assertNotAlmostEqual\n",
      "assertNotAlmostEquals\n",
      "assertNotEqual\n",
      "assertNotEquals\n",
      "assertNotIn\n",
      "assertNotIsInstance\n",
      "assertNotRegex\n",
      "assertNotRegexpMatches\n",
      "assertRaises\n",
      "assertRaisesRegex\n",
      "assertRaisesRegexp\n",
      "assertRegex\n",
      "assertRegexpMatches\n",
      "assertSequenceEqual\n",
      "assertSetEqual\n",
      "assertTrue\n",
      "assertTupleEqual\n",
      "assertWarns\n",
      "assertWarnsRegex\n",
      "assert_\n",
      "countTestCases\n",
      "debug\n",
      "defaultTestResult\n",
      "doClassCleanups\n",
      "doCleanups\n",
      "fail\n",
      "failIf\n",
      "failIfAlmostEqual\n",
      "failIfEqual\n",
      "failUnless\n",
      "failUnlessAlmostEqual\n",
      "failUnlessEqual\n",
      "failUnlessRaises\n",
      "failureException\n",
      "id\n",
      "longMessage\n",
      "maxDiff\n",
      "run\n",
      "setUp\n",
      "setUpClass\n",
      "shortDescription\n",
      "skipTest\n",
      "subTest\n",
      "tearDown\n",
      "tearDownClass\n"
     ]
    }
   ],
   "source": [
    "for attribute in dir(tests):\n",
    "    if attribute.startswith('_'):\n",
    "        continue\n",
    "    print(attribute)"
   ]
  },
  {
   "cell_type": "code",
   "execution_count": 6,
   "metadata": {},
   "outputs": [
    {
     "name": "stdout",
     "output_type": "stream",
     "text": [
      "Woof!\n"
     ]
    }
   ],
   "source": [
    "class Animal:\n",
    "  def __init__(self, name):\n",
    "    self.name = name\n",
    "\n",
    "  def make_sound(self):\n",
    "    print(\"Generic animal sound\")\n",
    "\n",
    "class Dog(Animal):  # Dog inherits from Animal\n",
    "  def __init__(self, name, breed):\n",
    "    super().__init__(name)  # Call the base class constructor\n",
    "    self.breed = breed\n",
    "\n",
    "  def make_sound(self):\n",
    "    print(\"Woof!\")\n",
    "\n",
    "my_dog = Dog(\"Fido\", \"Golden Retriever\")\n",
    "my_dog.make_sound()  # Output: Woof!"
   ]
  },
  {
   "cell_type": "code",
   "execution_count": 7,
   "metadata": {},
   "outputs": [
    {
     "name": "stdout",
     "output_type": "stream",
     "text": [
      "Woof! I'm Fido the Golden Retriever\n"
     ]
    }
   ],
   "source": [
    "class Animal:\n",
    "  def __init__(self, name):\n",
    "    self.__name = name  # Double underscores for name mangling\n",
    "\n",
    "  def get_name(self):\n",
    "    return self.__name  # Access the mangled name using get_name()\n",
    "\n",
    "class Dog(Animal):\n",
    "  def __init__(self, name, breed):\n",
    "    super().__init__(name)  # Call the base class constructor\n",
    "    self.breed = breed\n",
    "\n",
    "  def bark(self):\n",
    "    print(f\"Woof! I'm {self.get_name()} the {self.breed}\")  # Access mangled name\n",
    "\n",
    "my_dog = Dog(\"Fido\", \"Golden Retriever\")\n",
    "my_dog.bark()  # Output: Woof! I'm Fido the Golden Retriever\n"
   ]
  },
  {
   "cell_type": "code",
   "execution_count": null,
   "metadata": {},
   "outputs": [],
   "source": []
  }
 ],
 "metadata": {
  "kernelspec": {
   "display_name": "Python 3.8.9 64-bit",
   "language": "python",
   "name": "python3"
  },
  "language_info": {
   "codemirror_mode": {
    "name": "ipython",
    "version": 3
   },
   "file_extension": ".py",
   "mimetype": "text/x-python",
   "name": "python",
   "nbconvert_exporter": "python",
   "pygments_lexer": "ipython3",
   "version": "3.10.3"
  },
  "orig_nbformat": 4,
  "vscode": {
   "interpreter": {
    "hash": "31f2aee4e71d21fbe5cf8b01ff0e069b9275f58929596ceb00d14d90e3e16cd6"
   }
  }
 },
 "nbformat": 4,
 "nbformat_minor": 2
}
