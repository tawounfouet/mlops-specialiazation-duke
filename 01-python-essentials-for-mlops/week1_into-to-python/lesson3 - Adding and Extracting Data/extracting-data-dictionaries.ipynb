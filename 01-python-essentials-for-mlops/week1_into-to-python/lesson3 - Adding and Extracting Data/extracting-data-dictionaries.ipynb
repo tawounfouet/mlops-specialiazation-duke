{
 "cells": [
  {
   "cell_type": "markdown",
   "metadata": {},
   "source": [
    "## Retrieving data\n",
    "\n",
    "The most common problem with retrieving data in dictionaries is that you might get a `KeyError` if you are trying to retrieve values from a key that doesn't exist. \n",
    "\n",
    "This lesson covers three ways you can retrieve data from dictionaries without getting into an unhandled exception. Note that you should only implement retrieving values by ignoring the exception if you are sure there is no need to report on a missing key."
   ]
  },
  {
   "cell_type": "code",
   "execution_count": 1,
   "metadata": {},
   "outputs": [],
   "source": [
    "contact_information = {}"
   ]
  },
  {
   "cell_type": "code",
   "execution_count": 2,
   "metadata": {},
   "outputs": [
    {
     "ename": "KeyError",
     "evalue": "'height'",
     "output_type": "error",
     "traceback": [
      "\u001b[0;31m---------------------------------------------------------------------------\u001b[0m",
      "\u001b[0;31mKeyError\u001b[0m                                  Traceback (most recent call last)",
      "Cell \u001b[0;32mIn[2], line 2\u001b[0m\n\u001b[1;32m      1\u001b[0m \u001b[38;5;66;03m# normal retrieval (and possible exception)\u001b[39;00m\n\u001b[0;32m----> 2\u001b[0m \u001b[43mcontact_information\u001b[49m\u001b[43m[\u001b[49m\u001b[38;5;124;43m\"\u001b[39;49m\u001b[38;5;124;43mheight\u001b[39;49m\u001b[38;5;124;43m\"\u001b[39;49m\u001b[43m]\u001b[49m\n",
      "\u001b[0;31mKeyError\u001b[0m: 'height'"
     ]
    }
   ],
   "source": [
    "# normal retrieval (and possible exception)\n",
    "contact_information[\"height\"]"
   ]
  },
  {
   "cell_type": "code",
   "execution_count": 3,
   "metadata": {},
   "outputs": [
    {
     "name": "stdout",
     "output_type": "stream",
     "text": [
      "6ft\n"
     ]
    }
   ],
   "source": [
    "# using a try/except block\n",
    "try:\n",
    "    contact_information[\"height\"]\n",
    "except KeyError:\n",
    "    print(\"6ft\")"
   ]
  },
  {
   "cell_type": "code",
   "execution_count": 4,
   "metadata": {},
   "outputs": [
    {
     "name": "stdout",
     "output_type": "stream",
     "text": [
      "Height of contact is None\n"
     ]
    }
   ],
   "source": [
    "# using .get()\n",
    "result = contact_information.get(\"height\")\n",
    "print(\"Height of contact is\", result)"
   ]
  },
  {
   "cell_type": "code",
   "execution_count": 8,
   "metadata": {},
   "outputs": [
    {
     "name": "stdout",
     "output_type": "stream",
     "text": [
      "Height of contact is ``\n"
     ]
    }
   ],
   "source": [
    "# falling back when there is no key\n",
    "result = contact_information.get(\"height\", \"``\")\n",
    "print(\"Height of contact is\", result)"
   ]
  },
  {
   "cell_type": "code",
   "execution_count": 9,
   "metadata": {},
   "outputs": [
    {
     "name": "stdout",
     "output_type": "stream",
     "text": [
      "Height of contact is 5ft 9in.\n"
     ]
    }
   ],
   "source": [
    "# falling back when there is no key\n",
    "result = contact_information.get(\"height\", \"5ft 9in.\")\n",
    "print(\"Height of contact is\", result)"
   ]
  },
  {
   "cell_type": "code",
   "execution_count": 10,
   "metadata": {},
   "outputs": [
    {
     "name": "stdout",
     "output_type": "stream",
     "text": [
      "Age is 31\n",
      "{}\n"
     ]
    }
   ],
   "source": [
    "contact_information[\"age\"] = 31\n",
    "print(\"Age is\", contact_information.pop(\"age\"))\n",
    "print(contact_information)"
   ]
  },
  {
   "cell_type": "code",
   "execution_count": null,
   "metadata": {},
   "outputs": [],
   "source": []
  }
 ],
 "metadata": {
  "kernelspec": {
   "display_name": "Python 3.8.9 64-bit",
   "language": "python",
   "name": "python3"
  },
  "language_info": {
   "codemirror_mode": {
    "name": "ipython",
    "version": 3
   },
   "file_extension": ".py",
   "mimetype": "text/x-python",
   "name": "python",
   "nbconvert_exporter": "python",
   "pygments_lexer": "ipython3",
   "version": "3.10.3"
  },
  "orig_nbformat": 4,
  "vscode": {
   "interpreter": {
    "hash": "31f2aee4e71d21fbe5cf8b01ff0e069b9275f58929596ceb00d14d90e3e16cd6"
   }
  }
 },
 "nbformat": 4,
 "nbformat_minor": 2
}
