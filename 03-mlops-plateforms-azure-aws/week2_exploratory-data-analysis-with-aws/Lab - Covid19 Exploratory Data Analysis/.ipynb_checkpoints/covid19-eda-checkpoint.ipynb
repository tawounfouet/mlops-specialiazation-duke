{
 "cells": [
  {
   "cell_type": "markdown",
   "metadata": {
    "id": "ahIRZj6K-3-o"
   },
   "source": [
    "# Chapter 7:  Data Science"
   ]
  },
  {
   "cell_type": "markdown",
   "metadata": {
    "id": "NS0R02LQwG_2"
   },
   "source": [
    "## Ingest"
   ]
  },
  {
   "cell_type": "markdown",
   "metadata": {
    "id": "NJntteRBwI46"
   },
   "source": [
    "*COVID-19 Data from [New York Times Github](https://github.com/nytimes/covid-19-data)*"
   ]
  },
  {
   "cell_type": "code",
   "execution_count": 3,
   "metadata": {
    "colab": {
     "base_uri": "https://localhost:8080/",
     "height": 202
    },
    "id": "1ABhk0OLwejq",
    "outputId": "985ccf95-9dfc-40fe-8281-6484b9bc3377"
   },
   "outputs": [
    {
     "data": {
      "text/html": [
       "<div>\n",
       "<style scoped>\n",
       "    .dataframe tbody tr th:only-of-type {\n",
       "        vertical-align: middle;\n",
       "    }\n",
       "\n",
       "    .dataframe tbody tr th {\n",
       "        vertical-align: top;\n",
       "    }\n",
       "\n",
       "    .dataframe thead th {\n",
       "        text-align: right;\n",
       "    }\n",
       "</style>\n",
       "<table border=\"1\" class=\"dataframe\">\n",
       "  <thead>\n",
       "    <tr style=\"text-align: right;\">\n",
       "      <th></th>\n",
       "      <th>date</th>\n",
       "      <th>state</th>\n",
       "      <th>fips</th>\n",
       "      <th>cases</th>\n",
       "      <th>deaths</th>\n",
       "    </tr>\n",
       "  </thead>\n",
       "  <tbody>\n",
       "    <tr>\n",
       "      <th>0</th>\n",
       "      <td>2020-01-21</td>\n",
       "      <td>Washington</td>\n",
       "      <td>53</td>\n",
       "      <td>1</td>\n",
       "      <td>0</td>\n",
       "    </tr>\n",
       "    <tr>\n",
       "      <th>1</th>\n",
       "      <td>2020-01-22</td>\n",
       "      <td>Washington</td>\n",
       "      <td>53</td>\n",
       "      <td>1</td>\n",
       "      <td>0</td>\n",
       "    </tr>\n",
       "    <tr>\n",
       "      <th>2</th>\n",
       "      <td>2020-01-23</td>\n",
       "      <td>Washington</td>\n",
       "      <td>53</td>\n",
       "      <td>1</td>\n",
       "      <td>0</td>\n",
       "    </tr>\n",
       "    <tr>\n",
       "      <th>3</th>\n",
       "      <td>2020-01-24</td>\n",
       "      <td>Illinois</td>\n",
       "      <td>17</td>\n",
       "      <td>1</td>\n",
       "      <td>0</td>\n",
       "    </tr>\n",
       "    <tr>\n",
       "      <th>4</th>\n",
       "      <td>2020-01-24</td>\n",
       "      <td>Washington</td>\n",
       "      <td>53</td>\n",
       "      <td>1</td>\n",
       "      <td>0</td>\n",
       "    </tr>\n",
       "  </tbody>\n",
       "</table>\n",
       "</div>"
      ],
      "text/plain": [
       "         date       state  fips  cases  deaths\n",
       "0  2020-01-21  Washington    53      1       0\n",
       "1  2020-01-22  Washington    53      1       0\n",
       "2  2020-01-23  Washington    53      1       0\n",
       "3  2020-01-24    Illinois    17      1       0\n",
       "4  2020-01-24  Washington    53      1       0"
      ]
     },
     "execution_count": 3,
     "metadata": {},
     "output_type": "execute_result"
    }
   ],
   "source": [
    "import pandas as pd\n",
    "df = pd.read_csv(\"covid19.csv\")\n",
    "#df.to_csv(\"covid19.csv\", index=False)\n",
    "df.head()"
   ]
  },
  {
   "cell_type": "markdown",
   "metadata": {
    "id": "1iMW3XxnkUXF"
   },
   "source": [
    "Last five rows"
   ]
  },
  {
   "cell_type": "code",
   "execution_count": 4,
   "metadata": {
    "colab": {
     "base_uri": "https://localhost:8080/",
     "height": 202
    },
    "id": "opOpFijSkXR6",
    "outputId": "8425ed2f-b1b0-4516-a217-0f4efdf30d2a"
   },
   "outputs": [
    {
     "data": {
      "text/html": [
       "<div>\n",
       "<style scoped>\n",
       "    .dataframe tbody tr th:only-of-type {\n",
       "        vertical-align: middle;\n",
       "    }\n",
       "\n",
       "    .dataframe tbody tr th {\n",
       "        vertical-align: top;\n",
       "    }\n",
       "\n",
       "    .dataframe thead th {\n",
       "        text-align: right;\n",
       "    }\n",
       "</style>\n",
       "<table border=\"1\" class=\"dataframe\">\n",
       "  <thead>\n",
       "    <tr style=\"text-align: right;\">\n",
       "      <th></th>\n",
       "      <th>date</th>\n",
       "      <th>state</th>\n",
       "      <th>fips</th>\n",
       "      <th>cases</th>\n",
       "      <th>deaths</th>\n",
       "    </tr>\n",
       "  </thead>\n",
       "  <tbody>\n",
       "    <tr>\n",
       "      <th>54545</th>\n",
       "      <td>2022-11-11</td>\n",
       "      <td>Virginia</td>\n",
       "      <td>51</td>\n",
       "      <td>2131894</td>\n",
       "      <td>22232</td>\n",
       "    </tr>\n",
       "    <tr>\n",
       "      <th>54546</th>\n",
       "      <td>2022-11-11</td>\n",
       "      <td>Washington</td>\n",
       "      <td>53</td>\n",
       "      <td>1844567</td>\n",
       "      <td>14685</td>\n",
       "    </tr>\n",
       "    <tr>\n",
       "      <th>54547</th>\n",
       "      <td>2022-11-11</td>\n",
       "      <td>West Virginia</td>\n",
       "      <td>54</td>\n",
       "      <td>610675</td>\n",
       "      <td>7538</td>\n",
       "    </tr>\n",
       "    <tr>\n",
       "      <th>54548</th>\n",
       "      <td>2022-11-11</td>\n",
       "      <td>Wisconsin</td>\n",
       "      <td>55</td>\n",
       "      <td>1909301</td>\n",
       "      <td>15522</td>\n",
       "    </tr>\n",
       "    <tr>\n",
       "      <th>54549</th>\n",
       "      <td>2022-11-11</td>\n",
       "      <td>Wyoming</td>\n",
       "      <td>56</td>\n",
       "      <td>179366</td>\n",
       "      <td>1917</td>\n",
       "    </tr>\n",
       "  </tbody>\n",
       "</table>\n",
       "</div>"
      ],
      "text/plain": [
       "             date          state  fips    cases  deaths\n",
       "54545  2022-11-11       Virginia    51  2131894   22232\n",
       "54546  2022-11-11     Washington    53  1844567   14685\n",
       "54547  2022-11-11  West Virginia    54   610675    7538\n",
       "54548  2022-11-11      Wisconsin    55  1909301   15522\n",
       "54549  2022-11-11        Wyoming    56   179366    1917"
      ]
     },
     "execution_count": 4,
     "metadata": {},
     "output_type": "execute_result"
    }
   ],
   "source": [
    "df.tail()"
   ]
  },
  {
   "cell_type": "markdown",
   "metadata": {
    "id": "zr7wdjHswKfq"
   },
   "source": [
    "*What are the columns?*"
   ]
  },
  {
   "cell_type": "code",
   "execution_count": 5,
   "metadata": {
    "colab": {
     "base_uri": "https://localhost:8080/",
     "height": 35
    },
    "id": "DwAMxSNSwNWj",
    "outputId": "ebd41475-85cc-4166-de5c-5595b0d0e222"
   },
   "outputs": [
    {
     "data": {
      "text/plain": [
       "Index(['date', 'state', 'fips', 'cases', 'deaths'], dtype='object')"
      ]
     },
     "execution_count": 5,
     "metadata": {},
     "output_type": "execute_result"
    }
   ],
   "source": [
    "df.columns"
   ]
  },
  {
   "cell_type": "markdown",
   "metadata": {
    "id": "Q3njEtIJwSCi"
   },
   "source": [
    "*What is the shape:  i.e. rows,columns?*"
   ]
  },
  {
   "cell_type": "code",
   "execution_count": 6,
   "metadata": {
    "colab": {
     "base_uri": "https://localhost:8080/",
     "height": 35
    },
    "id": "kyCznu1cwUv_",
    "outputId": "fb5ea532-c126-4225-ba7e-ca71249245ba"
   },
   "outputs": [
    {
     "data": {
      "text/plain": [
       "(54550, 5)"
      ]
     },
     "execution_count": 6,
     "metadata": {},
     "output_type": "execute_result"
    }
   ],
   "source": [
    "df.shape"
   ]
  },
  {
   "cell_type": "markdown",
   "metadata": {
    "id": "PY_nFEZKwI7R"
   },
   "source": [
    "## EDA"
   ]
  },
  {
   "cell_type": "markdown",
   "metadata": {
    "id": "nNw9of3LiQjU"
   },
   "source": [
    "*What are general characteristics of the data?  A good way to find out is `df.describe`*"
   ]
  },
  {
   "cell_type": "code",
   "execution_count": 7,
   "metadata": {
    "colab": {
     "base_uri": "https://localhost:8080/",
     "height": 295
    },
    "id": "IHuBZouXCYAZ",
    "outputId": "8e4826ed-e1d1-46c0-da39-86188dffc763"
   },
   "outputs": [
    {
     "data": {
      "text/html": [
       "<div>\n",
       "<style scoped>\n",
       "    .dataframe tbody tr th:only-of-type {\n",
       "        vertical-align: middle;\n",
       "    }\n",
       "\n",
       "    .dataframe tbody tr th {\n",
       "        vertical-align: top;\n",
       "    }\n",
       "\n",
       "    .dataframe thead th {\n",
       "        text-align: right;\n",
       "    }\n",
       "</style>\n",
       "<table border=\"1\" class=\"dataframe\">\n",
       "  <thead>\n",
       "    <tr style=\"text-align: right;\">\n",
       "      <th></th>\n",
       "      <th>fips</th>\n",
       "      <th>cases</th>\n",
       "      <th>deaths</th>\n",
       "    </tr>\n",
       "  </thead>\n",
       "  <tbody>\n",
       "    <tr>\n",
       "      <th>count</th>\n",
       "      <td>54550.000000</td>\n",
       "      <td>5.455000e+04</td>\n",
       "      <td>54550.00000</td>\n",
       "    </tr>\n",
       "    <tr>\n",
       "      <th>mean</th>\n",
       "      <td>32.208964</td>\n",
       "      <td>7.656955e+05</td>\n",
       "      <td>10692.41659</td>\n",
       "    </tr>\n",
       "    <tr>\n",
       "      <th>std</th>\n",
       "      <td>18.772212</td>\n",
       "      <td>1.296653e+06</td>\n",
       "      <td>16101.83634</td>\n",
       "    </tr>\n",
       "    <tr>\n",
       "      <th>min</th>\n",
       "      <td>1.000000</td>\n",
       "      <td>1.000000e+00</td>\n",
       "      <td>0.00000</td>\n",
       "    </tr>\n",
       "    <tr>\n",
       "      <th>25%</th>\n",
       "      <td>17.000000</td>\n",
       "      <td>5.673500e+04</td>\n",
       "      <td>951.00000</td>\n",
       "    </tr>\n",
       "    <tr>\n",
       "      <th>50%</th>\n",
       "      <td>31.000000</td>\n",
       "      <td>3.008700e+05</td>\n",
       "      <td>4398.00000</td>\n",
       "    </tr>\n",
       "    <tr>\n",
       "      <th>75%</th>\n",
       "      <td>46.000000</td>\n",
       "      <td>9.015760e+05</td>\n",
       "      <td>13442.75000</td>\n",
       "    </tr>\n",
       "    <tr>\n",
       "      <th>max</th>\n",
       "      <td>78.000000</td>\n",
       "      <td>1.141172e+07</td>\n",
       "      <td>97142.00000</td>\n",
       "    </tr>\n",
       "  </tbody>\n",
       "</table>\n",
       "</div>"
      ],
      "text/plain": [
       "               fips         cases       deaths\n",
       "count  54550.000000  5.455000e+04  54550.00000\n",
       "mean      32.208964  7.656955e+05  10692.41659\n",
       "std       18.772212  1.296653e+06  16101.83634\n",
       "min        1.000000  1.000000e+00      0.00000\n",
       "25%       17.000000  5.673500e+04    951.00000\n",
       "50%       31.000000  3.008700e+05   4398.00000\n",
       "75%       46.000000  9.015760e+05  13442.75000\n",
       "max       78.000000  1.141172e+07  97142.00000"
      ]
     },
     "execution_count": 7,
     "metadata": {},
     "output_type": "execute_result"
    }
   ],
   "source": [
    "df.describe()"
   ]
  },
  {
   "cell_type": "markdown",
   "metadata": {
    "id": "3YtAIL7HFjOw"
   },
   "source": [
    "*Cases and Deaths in the USA due to Covid-19*"
   ]
  },
  {
   "cell_type": "code",
   "execution_count": 8,
   "metadata": {
    "colab": {
     "base_uri": "https://localhost:8080/",
     "height": 297
    },
    "id": "C9vXU4_fCj-8",
    "outputId": "eb684f08-960c-4847-a492-150e26343549"
   },
   "outputs": [
    {
     "data": {
      "text/plain": [
       "<AxesSubplot: xlabel='cases', ylabel='deaths'>"
      ]
     },
     "execution_count": 8,
     "metadata": {},
     "output_type": "execute_result"
    },
    {
     "data": {
      "image/png": "[encoded data removed]",
      "text/plain": [
       "<Figure size 640x480 with 1 Axes>"
      ]
     },
     "metadata": {},
     "output_type": "display_data"
    }
   ],
   "source": [
    "import seaborn as sns\n",
    "sns.scatterplot(x=\"cases\", y=\"deaths\", \n",
    "                hue=\"deaths\",size=\"deaths\", data=df)"
   ]
  },
  {
   "cell_type": "markdown",
   "metadata": {
    "id": "O_pRge294dFK"
   },
   "source": [
    "### Date-based EDA"
   ]
  },
  {
   "cell_type": "markdown",
   "metadata": {
    "id": "TSVSSgwev-Pp"
   },
   "source": [
    "*Dealing with dates by setting index*"
   ]
  },
  {
   "cell_type": "code",
   "execution_count": 9,
   "metadata": {
    "colab": {
     "base_uri": "https://localhost:8080/",
     "height": 179
    },
    "id": "KOzYb89evmrr",
    "outputId": "327c031d-ee8b-4ae0-8683-5b1fa4e1a1d0"
   },
   "outputs": [
    {
     "name": "stdout",
     "output_type": "stream",
     "text": [
      "Columns: Index(['state', 'fips', 'cases', 'deaths'], dtype='object')\n"
     ]
    },
    {
     "data": {
      "text/plain": [
       "DatetimeIndex(['2020-01-21', '2020-01-22', '2020-01-23', '2020-01-24',\n",
       "               '2020-01-24', '2020-01-25', '2020-01-25', '2020-01-25',\n",
       "               '2020-01-26', '2020-01-26',\n",
       "               ...\n",
       "               '2022-11-11', '2022-11-11', '2022-11-11', '2022-11-11',\n",
       "               '2022-11-11', '2022-11-11', '2022-11-11', '2022-11-11',\n",
       "               '2022-11-11', '2022-11-11'],\n",
       "              dtype='datetime64[ns]', name='date', length=54550, freq=None)"
      ]
     },
     "execution_count": 9,
     "metadata": {},
     "output_type": "execute_result"
    }
   ],
   "source": [
    "df = pd.read_csv(\"https://raw.githubusercontent.com/nytimes/covid-19-data/master/us-states.csv\")\n",
    "df[\"date\"] = pd.to_datetime(df[\"date\"])\n",
    "df = df.set_index(\"date\")\n",
    "print(f\"Columns: {df.columns}\")\n",
    "df.index"
   ]
  },
  {
   "cell_type": "markdown",
   "metadata": {
    "id": "ULM1KdpWijcS"
   },
   "source": [
    "*Filter results by date range*"
   ]
  },
  {
   "cell_type": "code",
   "execution_count": 10,
   "metadata": {
    "colab": {
     "base_uri": "https://localhost:8080/",
     "height": 53
    },
    "id": "O1ennZNsvlJx",
    "outputId": "32bbc404-d549-4e6e-c578-05fca252fbe0"
   },
   "outputs": [
    {
     "name": "stdout",
     "output_type": "stream",
     "text": [
      "Today 2022-11-12\n",
      "Two days ago 2022-11-10\n"
     ]
    }
   ],
   "source": [
    "from datetime import date, timedelta\n",
    "today = date.today()\n",
    "daybefore = today - timedelta(days = 2)\n",
    "print(f\"Today {today}\")\n",
    "print(f\"Two days ago {daybefore}\") "
   ]
  },
  {
   "cell_type": "code",
   "execution_count": 11,
   "metadata": {
    "colab": {
     "base_uri": "https://localhost:8080/",
     "height": 233
    },
    "id": "7zuHpxkm1sTA",
    "outputId": "ab87d37c-7186-479d-fc0d-83a69780a66d"
   },
   "outputs": [
    {
     "data": {
      "text/html": [
       "<div>\n",
       "<style scoped>\n",
       "    .dataframe tbody tr th:only-of-type {\n",
       "        vertical-align: middle;\n",
       "    }\n",
       "\n",
       "    .dataframe tbody tr th {\n",
       "        vertical-align: top;\n",
       "    }\n",
       "\n",
       "    .dataframe thead th {\n",
       "        text-align: right;\n",
       "    }\n",
       "</style>\n",
       "<table border=\"1\" class=\"dataframe\">\n",
       "  <thead>\n",
       "    <tr style=\"text-align: right;\">\n",
       "      <th></th>\n",
       "      <th>state</th>\n",
       "      <th>fips</th>\n",
       "      <th>cases</th>\n",
       "      <th>deaths</th>\n",
       "    </tr>\n",
       "    <tr>\n",
       "      <th>date</th>\n",
       "      <th></th>\n",
       "      <th></th>\n",
       "      <th></th>\n",
       "      <th></th>\n",
       "    </tr>\n",
       "  </thead>\n",
       "  <tbody>\n",
       "    <tr>\n",
       "      <th>2022-11-10</th>\n",
       "      <td>Alabama</td>\n",
       "      <td>1</td>\n",
       "      <td>1540329</td>\n",
       "      <td>20608</td>\n",
       "    </tr>\n",
       "    <tr>\n",
       "      <th>2022-11-10</th>\n",
       "      <td>Alaska</td>\n",
       "      <td>2</td>\n",
       "      <td>306812</td>\n",
       "      <td>1369</td>\n",
       "    </tr>\n",
       "    <tr>\n",
       "      <th>2022-11-10</th>\n",
       "      <td>American Samoa</td>\n",
       "      <td>60</td>\n",
       "      <td>8257</td>\n",
       "      <td>34</td>\n",
       "    </tr>\n",
       "    <tr>\n",
       "      <th>2022-11-10</th>\n",
       "      <td>Arizona</td>\n",
       "      <td>4</td>\n",
       "      <td>2300375</td>\n",
       "      <td>31613</td>\n",
       "    </tr>\n",
       "    <tr>\n",
       "      <th>2022-11-10</th>\n",
       "      <td>Arkansas</td>\n",
       "      <td>5</td>\n",
       "      <td>963047</td>\n",
       "      <td>12524</td>\n",
       "    </tr>\n",
       "  </tbody>\n",
       "</table>\n",
       "</div>"
      ],
      "text/plain": [
       "                     state  fips    cases  deaths\n",
       "date                                             \n",
       "2022-11-10         Alabama     1  1540329   20608\n",
       "2022-11-10          Alaska     2   306812    1369\n",
       "2022-11-10  American Samoa    60     8257      34\n",
       "2022-11-10         Arizona     4  2300375   31613\n",
       "2022-11-10        Arkansas     5   963047   12524"
      ]
     },
     "execution_count": 11,
     "metadata": {},
     "output_type": "execute_result"
    }
   ],
   "source": [
    "df.loc[daybefore:today].head()"
   ]
  },
  {
   "cell_type": "markdown",
   "metadata": {
    "id": "Ek_hurrf5FFi"
   },
   "source": [
    "*The distribution of the data by date*"
   ]
  },
  {
   "cell_type": "code",
   "execution_count": 12,
   "metadata": {
    "colab": {
     "base_uri": "https://localhost:8080/",
     "height": 283
    },
    "id": "SHl20wNuiuMw",
    "outputId": "720f5839-d7ac-444f-9f53-f65c598ece8a"
   },
   "outputs": [
    {
     "name": "stderr",
     "output_type": "stream",
     "text": [
      "/tmp/ipykernel_7696/2749997224.py:1: FutureWarning: \n",
      "\n",
      "`shade` is now deprecated in favor of `fill`; setting `fill=True`.\n",
      "This will become an error in seaborn v0.14.0; please update your code.\n",
      "\n",
      "  sns.kdeplot(df.loc[daybefore:today][\"deaths\"], shade=True)\n"
     ]
    },
    {
     "data": {
      "text/plain": [
       "<AxesSubplot: xlabel='deaths', ylabel='Density'>"
      ]
     },
     "execution_count": 12,
     "metadata": {},
     "output_type": "execute_result"
    },
    {
     "data": {
      "image/png": "[encoded data removed]",
      "text/plain": [
       "<Figure size 640x480 with 1 Axes>"
      ]
     },
     "metadata": {},
     "output_type": "display_data"
    }
   ],
   "source": [
    "sns.kdeplot(df.loc[daybefore:today][\"deaths\"], shade=True)"
   ]
  },
  {
   "cell_type": "markdown",
   "metadata": {
    "id": "ehV0NJINmR5S"
   },
   "source": [
    "*Sort DataFrame in place by states with highest deaths and cases and show first 10 results*"
   ]
  },
  {
   "cell_type": "code",
   "execution_count": 13,
   "metadata": {
    "colab": {
     "base_uri": "https://localhost:8080/",
     "height": 387
    },
    "id": "8QcPkd6CnH6q",
    "outputId": "0e30a007-7af4-4adb-e56b-c5e62e0e41e7"
   },
   "outputs": [
    {
     "data": {
      "text/html": [
       "<div>\n",
       "<style scoped>\n",
       "    .dataframe tbody tr th:only-of-type {\n",
       "        vertical-align: middle;\n",
       "    }\n",
       "\n",
       "    .dataframe tbody tr th {\n",
       "        vertical-align: top;\n",
       "    }\n",
       "\n",
       "    .dataframe thead th {\n",
       "        text-align: right;\n",
       "    }\n",
       "</style>\n",
       "<table border=\"1\" class=\"dataframe\">\n",
       "  <thead>\n",
       "    <tr style=\"text-align: right;\">\n",
       "      <th></th>\n",
       "      <th>state</th>\n",
       "      <th>fips</th>\n",
       "      <th>cases</th>\n",
       "      <th>deaths</th>\n",
       "    </tr>\n",
       "    <tr>\n",
       "      <th>date</th>\n",
       "      <th></th>\n",
       "      <th></th>\n",
       "      <th></th>\n",
       "      <th></th>\n",
       "    </tr>\n",
       "  </thead>\n",
       "  <tbody>\n",
       "    <tr>\n",
       "      <th>2022-11-11</th>\n",
       "      <td>California</td>\n",
       "      <td>6</td>\n",
       "      <td>11411720</td>\n",
       "      <td>97142</td>\n",
       "    </tr>\n",
       "    <tr>\n",
       "      <th>2022-11-10</th>\n",
       "      <td>California</td>\n",
       "      <td>6</td>\n",
       "      <td>11411718</td>\n",
       "      <td>97142</td>\n",
       "    </tr>\n",
       "    <tr>\n",
       "      <th>2022-11-11</th>\n",
       "      <td>Texas</td>\n",
       "      <td>48</td>\n",
       "      <td>7952457</td>\n",
       "      <td>91497</td>\n",
       "    </tr>\n",
       "    <tr>\n",
       "      <th>2022-11-10</th>\n",
       "      <td>Texas</td>\n",
       "      <td>48</td>\n",
       "      <td>7952233</td>\n",
       "      <td>91496</td>\n",
       "    </tr>\n",
       "    <tr>\n",
       "      <th>2022-11-10</th>\n",
       "      <td>Florida</td>\n",
       "      <td>12</td>\n",
       "      <td>7172457</td>\n",
       "      <td>82541</td>\n",
       "    </tr>\n",
       "    <tr>\n",
       "      <th>2022-11-11</th>\n",
       "      <td>Florida</td>\n",
       "      <td>12</td>\n",
       "      <td>7172457</td>\n",
       "      <td>82541</td>\n",
       "    </tr>\n",
       "    <tr>\n",
       "      <th>2022-11-11</th>\n",
       "      <td>New York</td>\n",
       "      <td>36</td>\n",
       "      <td>6288122</td>\n",
       "      <td>72674</td>\n",
       "    </tr>\n",
       "    <tr>\n",
       "      <th>2022-11-10</th>\n",
       "      <td>New York</td>\n",
       "      <td>36</td>\n",
       "      <td>6286317</td>\n",
       "      <td>72674</td>\n",
       "    </tr>\n",
       "    <tr>\n",
       "      <th>2022-11-10</th>\n",
       "      <td>Pennsylvania</td>\n",
       "      <td>42</td>\n",
       "      <td>3330062</td>\n",
       "      <td>47994</td>\n",
       "    </tr>\n",
       "    <tr>\n",
       "      <th>2022-11-11</th>\n",
       "      <td>Pennsylvania</td>\n",
       "      <td>42</td>\n",
       "      <td>3330062</td>\n",
       "      <td>47994</td>\n",
       "    </tr>\n",
       "  </tbody>\n",
       "</table>\n",
       "</div>"
      ],
      "text/plain": [
       "                   state  fips     cases  deaths\n",
       "date                                            \n",
       "2022-11-11    California     6  11411720   97142\n",
       "2022-11-10    California     6  11411718   97142\n",
       "2022-11-11         Texas    48   7952457   91497\n",
       "2022-11-10         Texas    48   7952233   91496\n",
       "2022-11-10       Florida    12   7172457   82541\n",
       "2022-11-11       Florida    12   7172457   82541\n",
       "2022-11-11      New York    36   6288122   72674\n",
       "2022-11-10      New York    36   6286317   72674\n",
       "2022-11-10  Pennsylvania    42   3330062   47994\n",
       "2022-11-11  Pennsylvania    42   3330062   47994"
      ]
     },
     "execution_count": 13,
     "metadata": {},
     "output_type": "execute_result"
    }
   ],
   "source": [
    "current_df = df.loc[daybefore:today].sort_values(by=[\"deaths\", \"cases\"], ascending=False)\n",
    "current_df.head(10)"
   ]
  },
  {
   "cell_type": "markdown",
   "metadata": {
    "id": "OSNzoid28GEX"
   },
   "source": [
    "*There should be 50 states and District of Columbia*"
   ]
  },
  {
   "cell_type": "code",
   "execution_count": 14,
   "metadata": {
    "colab": {
     "base_uri": "https://localhost:8080/",
     "height": 35
    },
    "id": "Ktah9SqV8I3i",
    "outputId": "2b0bb5eb-1186-405a-fb87-0cf89cffe8e0"
   },
   "outputs": [
    {
     "data": {
      "text/plain": [
       "(112, 4)"
      ]
     },
     "execution_count": 14,
     "metadata": {},
     "output_type": "execute_result"
    }
   ],
   "source": [
    "current_df.shape"
   ]
  },
  {
   "cell_type": "markdown",
   "metadata": {
    "id": "i_M6NGQk8_2U"
   },
   "source": [
    "### State Based Analysis"
   ]
  },
  {
   "cell_type": "markdown",
   "metadata": {
    "id": "xzGQ9z_oA6V7"
   },
   "source": [
    "*Get 10 states and subset*"
   ]
  },
  {
   "cell_type": "code",
   "execution_count": 15,
   "metadata": {
    "colab": {
     "base_uri": "https://localhost:8080/",
     "height": 197
    },
    "id": "PeicLkAlA9y4",
    "outputId": "319ec37e-6652-4684-fb48-1aa7245f0469"
   },
   "outputs": [
    {
     "data": {
      "text/plain": [
       "['California',\n",
       " 'California',\n",
       " 'Texas',\n",
       " 'Texas',\n",
       " 'Florida',\n",
       " 'Florida',\n",
       " 'New York',\n",
       " 'New York',\n",
       " 'Pennsylvania',\n",
       " 'Pennsylvania']"
      ]
     },
     "execution_count": 15,
     "metadata": {},
     "output_type": "execute_result"
    }
   ],
   "source": [
    "top_ten_states = list(current_df[\"state\"].head(10).values)\n",
    "top_ten_states"
   ]
  },
  {
   "cell_type": "code",
   "execution_count": 16,
   "metadata": {
    "id": "uzv8KJtx9bFO"
   },
   "outputs": [],
   "source": [
    "top_states_df = df[df['state'].isin(top_ten_states)].drop(columns=\"fips\")"
   ]
  },
  {
   "cell_type": "markdown",
   "metadata": {
    "id": "dkLverBTICn3"
   },
   "source": [
    "*Verify the unique states left is the same 10*"
   ]
  },
  {
   "cell_type": "code",
   "execution_count": 17,
   "metadata": {
    "colab": {
     "base_uri": "https://localhost:8080/",
     "height": 197
    },
    "id": "l3bJzaxyHnD6",
    "outputId": "5f6d40b2-05e2-41b4-9506-a5431c3498c3"
   },
   "outputs": [
    {
     "data": {
      "text/plain": [
       "{'California', 'Florida', 'New York', 'Pennsylvania', 'Texas'}"
      ]
     },
     "execution_count": 17,
     "metadata": {},
     "output_type": "execute_result"
    }
   ],
   "source": [
    "set(top_states_df.state.values)"
   ]
  },
  {
   "cell_type": "code",
   "execution_count": null,
   "metadata": {
    "colab": {
     "base_uri": "https://localhost:8080/",
     "height": 502
    },
    "id": "9ba-QT229CYE",
    "outputId": "cb08520e-7eba-4cf2-fa0d-7365b30518ff"
   },
   "outputs": [
    {
     "data": {
      "text/plain": [
       "<Figure size 1080x360 with 0 Axes>"
      ]
     },
     "metadata": {
      "tags": []
     },
     "output_type": "display_data"
    },
    {
     "data": {
      "image/png": "[encoded data removed]",
      "text/plain": [
       "<Figure size 1260x504 with 10 Axes>"
      ]
     },
     "metadata": {
      "tags": []
     },
     "output_type": "display_data"
    }
   ],
   "source": [
    "import seaborn as sns\n",
    "import matplotlib.pyplot as plt\n",
    "\n",
    "plt.figure(figsize=(15,5))\n",
    "ax = sns.lmplot(x=\"cases\", y=\"deaths\",\n",
    "                    height=3.5,\n",
    "                    col=\"state\",\n",
    "                    col_wrap=5,\n",
    "                    hue=\"state\", \n",
    "                    palette=\"Set2\",\n",
    "                    data=top_states_df)\n",
    "ax.fig.subplots_adjust(wspace=.2)"
   ]
  },
  {
   "cell_type": "markdown",
   "metadata": {
    "id": "in-JRg0lOCrp"
   },
   "source": [
    "*Interactive plot of top states*"
   ]
  },
  {
   "cell_type": "code",
   "execution_count": 18,
   "metadata": {
    "colab": {
     "base_uri": "https://localhost:8080/",
     "height": 233
    },
    "id": "Vf7j4jUBaKMS",
    "outputId": "1ac26832-4bfe-4f23-cd50-be1d8d873f50"
   },
   "outputs": [
    {
     "data": {
      "text/html": [
       "<div>\n",
       "<style scoped>\n",
       "    .dataframe tbody tr th:only-of-type {\n",
       "        vertical-align: middle;\n",
       "    }\n",
       "\n",
       "    .dataframe tbody tr th {\n",
       "        vertical-align: top;\n",
       "    }\n",
       "\n",
       "    .dataframe thead th {\n",
       "        text-align: right;\n",
       "    }\n",
       "</style>\n",
       "<table border=\"1\" class=\"dataframe\">\n",
       "  <thead>\n",
       "    <tr style=\"text-align: right;\">\n",
       "      <th></th>\n",
       "      <th>state</th>\n",
       "      <th>cases</th>\n",
       "      <th>deaths</th>\n",
       "    </tr>\n",
       "    <tr>\n",
       "      <th>date</th>\n",
       "      <th></th>\n",
       "      <th></th>\n",
       "      <th></th>\n",
       "    </tr>\n",
       "  </thead>\n",
       "  <tbody>\n",
       "    <tr>\n",
       "      <th>2020-03-08</th>\n",
       "      <td>Pennsylvania</td>\n",
       "      <td>6</td>\n",
       "      <td>0</td>\n",
       "    </tr>\n",
       "    <tr>\n",
       "      <th>2020-03-09</th>\n",
       "      <td>Pennsylvania</td>\n",
       "      <td>10</td>\n",
       "      <td>0</td>\n",
       "    </tr>\n",
       "    <tr>\n",
       "      <th>2020-03-10</th>\n",
       "      <td>Pennsylvania</td>\n",
       "      <td>12</td>\n",
       "      <td>0</td>\n",
       "    </tr>\n",
       "    <tr>\n",
       "      <th>2020-03-11</th>\n",
       "      <td>Pennsylvania</td>\n",
       "      <td>16</td>\n",
       "      <td>0</td>\n",
       "    </tr>\n",
       "    <tr>\n",
       "      <th>2020-03-12</th>\n",
       "      <td>Pennsylvania</td>\n",
       "      <td>22</td>\n",
       "      <td>0</td>\n",
       "    </tr>\n",
       "  </tbody>\n",
       "</table>\n",
       "</div>"
      ],
      "text/plain": [
       "                   state  cases  deaths\n",
       "date                                   \n",
       "2020-03-08  Pennsylvania      6       0\n",
       "2020-03-09  Pennsylvania     10       0\n",
       "2020-03-10  Pennsylvania     12       0\n",
       "2020-03-11  Pennsylvania     16       0\n",
       "2020-03-12  Pennsylvania     22       0"
      ]
     },
     "execution_count": 18,
     "metadata": {},
     "output_type": "execute_result"
    }
   ],
   "source": [
    "top_states_march_current_df = top_states_df.loc[\"2020-03-08\":today].sort_values(by=[\"deaths\", \"cases\"], ascending=True)\n",
    "top_states_march_current_df.head()"
   ]
  },
  {
   "cell_type": "markdown",
   "metadata": {
    "id": "rN0jv8_3mD-z"
   },
   "source": [
    "### Search for Features:  Political, Health and Finance"
   ]
  },
  {
   "cell_type": "markdown",
   "metadata": {
    "id": "4VLRtEYvBtoR"
   },
   "source": [
    "*Sugar Intake By State*"
   ]
  },
  {
   "cell_type": "code",
   "execution_count": 23,
   "metadata": {
    "colab": {
     "base_uri": "https://localhost:8080/",
     "height": 202
    },
    "id": "nnLcHUUUBwzD",
    "outputId": "0351e944-96b5-4ac5-cd76-81fb2752fbdb"
   },
   "outputs": [
    {
     "name": "stderr",
     "output_type": "stream",
     "text": [
      "/tmp/ipykernel_7696/141433166.py:5: FutureWarning:\n",
      "\n",
      "The default value of regex will change from True to False in a future version.\n",
      "\n"
     ]
    },
    {
     "data": {
      "text/html": [
       "<div>\n",
       "<style scoped>\n",
       "    .dataframe tbody tr th:only-of-type {\n",
       "        vertical-align: middle;\n",
       "    }\n",
       "\n",
       "    .dataframe tbody tr th {\n",
       "        vertical-align: top;\n",
       "    }\n",
       "\n",
       "    .dataframe thead th {\n",
       "        text-align: right;\n",
       "    }\n",
       "</style>\n",
       "<table border=\"1\" class=\"dataframe\">\n",
       "  <thead>\n",
       "    <tr style=\"text-align: right;\">\n",
       "      <th></th>\n",
       "      <th>state</th>\n",
       "      <th>employed-sugar-intake-daily</th>\n",
       "      <th>Not employed</th>\n",
       "      <th>Retired</th>\n",
       "      <th>&lt;High school</th>\n",
       "      <th>High school</th>\n",
       "      <th>Some college</th>\n",
       "      <th>College graduate</th>\n",
       "    </tr>\n",
       "  </thead>\n",
       "  <tbody>\n",
       "    <tr>\n",
       "      <th>0</th>\n",
       "      <td>Alaska</td>\n",
       "      <td>26.2</td>\n",
       "      <td>32.1</td>\n",
       "      <td>16.0</td>\n",
       "      <td>47.1</td>\n",
       "      <td>34.9</td>\n",
       "      <td>24.2</td>\n",
       "      <td>12.9</td>\n",
       "    </tr>\n",
       "    <tr>\n",
       "      <th>1</th>\n",
       "      <td>Arizona</td>\n",
       "      <td>33.0</td>\n",
       "      <td>28.7</td>\n",
       "      <td>13.8</td>\n",
       "      <td>40.4</td>\n",
       "      <td>36.5</td>\n",
       "      <td>24.4</td>\n",
       "      <td>14.6</td>\n",
       "    </tr>\n",
       "    <tr>\n",
       "      <th>2</th>\n",
       "      <td>California</td>\n",
       "      <td>22.9</td>\n",
       "      <td>30.2</td>\n",
       "      <td>15.0</td>\n",
       "      <td>38.5</td>\n",
       "      <td>29.9</td>\n",
       "      <td>21.4</td>\n",
       "      <td>11.5</td>\n",
       "    </tr>\n",
       "    <tr>\n",
       "      <th>3</th>\n",
       "      <td>Connecticut</td>\n",
       "      <td>18.9</td>\n",
       "      <td>24.3</td>\n",
       "      <td>15.0</td>\n",
       "      <td>27.8</td>\n",
       "      <td>26.9</td>\n",
       "      <td>19.9</td>\n",
       "      <td>10.2</td>\n",
       "    </tr>\n",
       "    <tr>\n",
       "      <th>4</th>\n",
       "      <td>District of Columbia</td>\n",
       "      <td>18.5</td>\n",
       "      <td>34.6</td>\n",
       "      <td>18.5</td>\n",
       "      <td>45.6</td>\n",
       "      <td>39.0</td>\n",
       "      <td>28.9</td>\n",
       "      <td>8.4</td>\n",
       "    </tr>\n",
       "  </tbody>\n",
       "</table>\n",
       "</div>"
      ],
      "text/plain": [
       "                  state  employed-sugar-intake-daily  Not employed  Retired  \\\n",
       "0                Alaska                         26.2          32.1     16.0   \n",
       "1               Arizona                         33.0          28.7     13.8   \n",
       "2            California                         22.9          30.2     15.0   \n",
       "3           Connecticut                         18.9          24.3     15.0   \n",
       "4  District of Columbia                         18.5          34.6     18.5   \n",
       "\n",
       "   <High school  High school  Some college  College graduate  \n",
       "0          47.1         34.9          24.2              12.9  \n",
       "1          40.4         36.5          24.4              14.6  \n",
       "2          38.5         29.9          21.4              11.5  \n",
       "3          27.8         26.9          19.9              10.2  \n",
       "4          45.6         39.0          28.9               8.4  "
      ]
     },
     "execution_count": 23,
     "metadata": {},
     "output_type": "execute_result"
    }
   ],
   "source": [
    "cdc_2013 = pd.read_csv(\"education_sugar_cdc_2003.csv\")\n",
    "cdc_2013.to_csv(\"education_sugar_cdc_2003.csv\", index=False)\n",
    "cdc_2013.set_index(\"State\", inplace=True)\n",
    "for column in cdc_2013.columns:\n",
    "  cdc_2013[column]=cdc_2013[column].str.replace(r\"\\(.*\\)\",\"\")\n",
    "  cdc_2013[column]=pd.to_numeric(cdc_2013[column])\n",
    "  \n",
    "cdc_2013.reset_index(inplace=True)\n",
    "cdc_2013.rename(columns={\"State\": \"state\", \"Employed\": \"employed-sugar-intake-daily\"},inplace=True)\n",
    "cdc_2013.head()"
   ]
  },
  {
   "cell_type": "markdown",
   "metadata": {
    "id": "BT7YQzUcCRSn"
   },
   "source": [
    "*Combine Sugar Data and Covid-19 Data*"
   ]
  },
  {
   "cell_type": "code",
   "execution_count": 24,
   "metadata": {
    "colab": {
     "base_uri": "https://localhost:8080/",
     "height": 202
    },
    "id": "mxZ76ZI8EDQ2",
    "outputId": "0f04c9ce-bae4-43eb-c1a6-b3aef97e4bd1"
   },
   "outputs": [
    {
     "data": {
      "text/html": [
       "<div>\n",
       "<style scoped>\n",
       "    .dataframe tbody tr th:only-of-type {\n",
       "        vertical-align: middle;\n",
       "    }\n",
       "\n",
       "    .dataframe tbody tr th {\n",
       "        vertical-align: top;\n",
       "    }\n",
       "\n",
       "    .dataframe thead th {\n",
       "        text-align: right;\n",
       "    }\n",
       "</style>\n",
       "<table border=\"1\" class=\"dataframe\">\n",
       "  <thead>\n",
       "    <tr style=\"text-align: right;\">\n",
       "      <th></th>\n",
       "      <th>state</th>\n",
       "      <th>fips</th>\n",
       "      <th>cases</th>\n",
       "      <th>deaths</th>\n",
       "      <th>employed-sugar-intake-daily</th>\n",
       "    </tr>\n",
       "  </thead>\n",
       "  <tbody>\n",
       "    <tr>\n",
       "      <th>0</th>\n",
       "      <td>California</td>\n",
       "      <td>6</td>\n",
       "      <td>1</td>\n",
       "      <td>0</td>\n",
       "      <td>22.9</td>\n",
       "    </tr>\n",
       "    <tr>\n",
       "      <th>1</th>\n",
       "      <td>California</td>\n",
       "      <td>6</td>\n",
       "      <td>2</td>\n",
       "      <td>0</td>\n",
       "      <td>22.9</td>\n",
       "    </tr>\n",
       "    <tr>\n",
       "      <th>2</th>\n",
       "      <td>California</td>\n",
       "      <td>6</td>\n",
       "      <td>2</td>\n",
       "      <td>0</td>\n",
       "      <td>22.9</td>\n",
       "    </tr>\n",
       "    <tr>\n",
       "      <th>3</th>\n",
       "      <td>California</td>\n",
       "      <td>6</td>\n",
       "      <td>2</td>\n",
       "      <td>0</td>\n",
       "      <td>22.9</td>\n",
       "    </tr>\n",
       "    <tr>\n",
       "      <th>4</th>\n",
       "      <td>California</td>\n",
       "      <td>6</td>\n",
       "      <td>2</td>\n",
       "      <td>0</td>\n",
       "      <td>22.9</td>\n",
       "    </tr>\n",
       "  </tbody>\n",
       "</table>\n",
       "</div>"
      ],
      "text/plain": [
       "        state  fips  cases  deaths  employed-sugar-intake-daily\n",
       "0  California     6      1       0                         22.9\n",
       "1  California     6      2       0                         22.9\n",
       "2  California     6      2       0                         22.9\n",
       "3  California     6      2       0                         22.9\n",
       "4  California     6      2       0                         22.9"
      ]
     },
     "execution_count": 24,
     "metadata": {},
     "output_type": "execute_result"
    }
   ],
   "source": [
    "cdc_employed_df = cdc_2013[[\"employed-sugar-intake-daily\", \"state\"]]\n",
    "sugar_covid_df = df.merge(cdc_employed_df, how=\"inner\", on=\"state\")\n",
    "sugar_covid_df.head()"
   ]
  },
  {
   "cell_type": "markdown",
   "metadata": {
    "id": "9syyMOxhTHMo"
   },
   "source": [
    "*What about data from the 2016 Election?*"
   ]
  },
  {
   "cell_type": "code",
   "execution_count": 26,
   "metadata": {
    "colab": {
     "base_uri": "https://localhost:8080/",
     "height": 202
    },
    "id": "2RZa-tDmTPXP",
    "outputId": "e06bc642-feb3-480b-a3b4-0704e2ae8b03"
   },
   "outputs": [
    {
     "data": {
      "text/html": [
       "<div>\n",
       "<style scoped>\n",
       "    .dataframe tbody tr th:only-of-type {\n",
       "        vertical-align: middle;\n",
       "    }\n",
       "\n",
       "    .dataframe tbody tr th {\n",
       "        vertical-align: top;\n",
       "    }\n",
       "\n",
       "    .dataframe thead th {\n",
       "        text-align: right;\n",
       "    }\n",
       "</style>\n",
       "<table border=\"1\" class=\"dataframe\">\n",
       "  <thead>\n",
       "    <tr style=\"text-align: right;\">\n",
       "      <th></th>\n",
       "      <th>state</th>\n",
       "      <th>Winning Party</th>\n",
       "      <th>Democrats</th>\n",
       "      <th>Republicans</th>\n",
       "    </tr>\n",
       "  </thead>\n",
       "  <tbody>\n",
       "    <tr>\n",
       "      <th>0</th>\n",
       "      <td>Alabama</td>\n",
       "      <td>Republicans</td>\n",
       "      <td>0</td>\n",
       "      <td>1</td>\n",
       "    </tr>\n",
       "    <tr>\n",
       "      <th>1</th>\n",
       "      <td>Alaska</td>\n",
       "      <td>Republicans</td>\n",
       "      <td>0</td>\n",
       "      <td>1</td>\n",
       "    </tr>\n",
       "    <tr>\n",
       "      <th>2</th>\n",
       "      <td>Arizona</td>\n",
       "      <td>Republicans</td>\n",
       "      <td>0</td>\n",
       "      <td>1</td>\n",
       "    </tr>\n",
       "    <tr>\n",
       "      <th>3</th>\n",
       "      <td>Arkansas</td>\n",
       "      <td>Republicans</td>\n",
       "      <td>0</td>\n",
       "      <td>1</td>\n",
       "    </tr>\n",
       "    <tr>\n",
       "      <th>4</th>\n",
       "      <td>California</td>\n",
       "      <td>Democrats</td>\n",
       "      <td>1</td>\n",
       "      <td>0</td>\n",
       "    </tr>\n",
       "  </tbody>\n",
       "</table>\n",
       "</div>"
      ],
      "text/plain": [
       "        state Winning Party  Democrats  Republicans\n",
       "0     Alabama   Republicans          0            1\n",
       "1      Alaska   Republicans          0            1\n",
       "2     Arizona   Republicans          0            1\n",
       "3    Arkansas   Republicans          0            1\n",
       "4  California     Democrats          1            0"
      ]
     },
     "execution_count": 26,
     "metadata": {},
     "output_type": "execute_result"
    }
   ],
   "source": [
    "election_df = pd.read_csv(\"2016-Electoral-Votes.csv\")\n",
    "#election_df.to_csv(\"2016-Electoral-Votes.csv\", index=False)\n",
    "election_df.rename(columns={\"State\": \"state\"},inplace=True)\n",
    "election_df.drop(columns=\"Votes\", inplace=True)\n",
    "election_df = pd.concat([election_df, pd.get_dummies(election_df[\"Winning Party\"])], axis=1);\n",
    "election_df.head()\n",
    "#election_df[\"Republican?\"] = pd.get_dummies(election_df, columns=[\"Winning Party\"])\n",
    "#election_df.head()"
   ]
  },
  {
   "cell_type": "code",
   "execution_count": 27,
   "metadata": {
    "colab": {
     "base_uri": "https://localhost:8080/",
     "height": 202
    },
    "id": "c6CuViW_V2Hx",
    "outputId": "76ec7320-9f60-495c-9f7a-cce61c8e2d59"
   },
   "outputs": [
    {
     "data": {
      "text/html": [
       "<div>\n",
       "<style scoped>\n",
       "    .dataframe tbody tr th:only-of-type {\n",
       "        vertical-align: middle;\n",
       "    }\n",
       "\n",
       "    .dataframe tbody tr th {\n",
       "        vertical-align: top;\n",
       "    }\n",
       "\n",
       "    .dataframe thead th {\n",
       "        text-align: right;\n",
       "    }\n",
       "</style>\n",
       "<table border=\"1\" class=\"dataframe\">\n",
       "  <thead>\n",
       "    <tr style=\"text-align: right;\">\n",
       "      <th></th>\n",
       "      <th>state</th>\n",
       "      <th>fips</th>\n",
       "      <th>cases</th>\n",
       "      <th>deaths</th>\n",
       "      <th>employed-sugar-intake-daily</th>\n",
       "      <th>Winning Party</th>\n",
       "      <th>Democrats</th>\n",
       "      <th>Republicans</th>\n",
       "    </tr>\n",
       "  </thead>\n",
       "  <tbody>\n",
       "    <tr>\n",
       "      <th>0</th>\n",
       "      <td>California</td>\n",
       "      <td>6</td>\n",
       "      <td>1</td>\n",
       "      <td>0</td>\n",
       "      <td>22.9</td>\n",
       "      <td>Democrats</td>\n",
       "      <td>1</td>\n",
       "      <td>0</td>\n",
       "    </tr>\n",
       "    <tr>\n",
       "      <th>1</th>\n",
       "      <td>California</td>\n",
       "      <td>6</td>\n",
       "      <td>2</td>\n",
       "      <td>0</td>\n",
       "      <td>22.9</td>\n",
       "      <td>Democrats</td>\n",
       "      <td>1</td>\n",
       "      <td>0</td>\n",
       "    </tr>\n",
       "    <tr>\n",
       "      <th>2</th>\n",
       "      <td>California</td>\n",
       "      <td>6</td>\n",
       "      <td>2</td>\n",
       "      <td>0</td>\n",
       "      <td>22.9</td>\n",
       "      <td>Democrats</td>\n",
       "      <td>1</td>\n",
       "      <td>0</td>\n",
       "    </tr>\n",
       "    <tr>\n",
       "      <th>3</th>\n",
       "      <td>California</td>\n",
       "      <td>6</td>\n",
       "      <td>2</td>\n",
       "      <td>0</td>\n",
       "      <td>22.9</td>\n",
       "      <td>Democrats</td>\n",
       "      <td>1</td>\n",
       "      <td>0</td>\n",
       "    </tr>\n",
       "    <tr>\n",
       "      <th>4</th>\n",
       "      <td>California</td>\n",
       "      <td>6</td>\n",
       "      <td>2</td>\n",
       "      <td>0</td>\n",
       "      <td>22.9</td>\n",
       "      <td>Democrats</td>\n",
       "      <td>1</td>\n",
       "      <td>0</td>\n",
       "    </tr>\n",
       "  </tbody>\n",
       "</table>\n",
       "</div>"
      ],
      "text/plain": [
       "        state  fips  cases  deaths  employed-sugar-intake-daily Winning Party  \\\n",
       "0  California     6      1       0                         22.9     Democrats   \n",
       "1  California     6      2       0                         22.9     Democrats   \n",
       "2  California     6      2       0                         22.9     Democrats   \n",
       "3  California     6      2       0                         22.9     Democrats   \n",
       "4  California     6      2       0                         22.9     Democrats   \n",
       "\n",
       "   Democrats  Republicans  \n",
       "0          1            0  \n",
       "1          1            0  \n",
       "2          1            0  \n",
       "3          1            0  \n",
       "4          1            0  "
      ]
     },
     "execution_count": 27,
     "metadata": {},
     "output_type": "execute_result"
    }
   ],
   "source": [
    "sugar_covid_df = sugar_covid_df.merge(election_df, how=\"inner\", on=\"state\")\n",
    "sugar_covid_df.head()"
   ]
  },
  {
   "cell_type": "markdown",
   "metadata": {
    "id": "RmBJqPnXE5wR"
   },
   "source": [
    "*Generate Heatmap*"
   ]
  },
  {
   "cell_type": "code",
   "execution_count": 28,
   "metadata": {
    "colab": {
     "base_uri": "https://localhost:8080/",
     "height": 233
    },
    "id": "cee_tCSBGdEM",
    "outputId": "f74e0e33-66cb-4051-c208-699aa539517b"
   },
   "outputs": [
    {
     "name": "stderr",
     "output_type": "stream",
     "text": [
      "/tmp/ipykernel_7696/1343867003.py:1: FutureWarning:\n",
      "\n",
      "The default value of numeric_only in DataFrame.corr is deprecated. In a future version, it will default to False. Select only valid columns or specify the value of numeric_only to silence this warning.\n",
      "\n"
     ]
    },
    {
     "data": {
      "text/html": [
       "<div>\n",
       "<style scoped>\n",
       "    .dataframe tbody tr th:only-of-type {\n",
       "        vertical-align: middle;\n",
       "    }\n",
       "\n",
       "    .dataframe tbody tr th {\n",
       "        vertical-align: top;\n",
       "    }\n",
       "\n",
       "    .dataframe thead th {\n",
       "        text-align: right;\n",
       "    }\n",
       "</style>\n",
       "<table border=\"1\" class=\"dataframe\">\n",
       "  <thead>\n",
       "    <tr style=\"text-align: right;\">\n",
       "      <th></th>\n",
       "      <th>fips</th>\n",
       "      <th>cases</th>\n",
       "      <th>deaths</th>\n",
       "      <th>employed-sugar-intake-daily</th>\n",
       "      <th>Democrats</th>\n",
       "      <th>Republicans</th>\n",
       "    </tr>\n",
       "  </thead>\n",
       "  <tbody>\n",
       "    <tr>\n",
       "      <th>fips</th>\n",
       "      <td>1.000000</td>\n",
       "      <td>-0.118237</td>\n",
       "      <td>-0.124786</td>\n",
       "      <td>0.269829</td>\n",
       "      <td>-0.187531</td>\n",
       "      <td>0.187531</td>\n",
       "    </tr>\n",
       "    <tr>\n",
       "      <th>cases</th>\n",
       "      <td>-0.118237</td>\n",
       "      <td>1.000000</td>\n",
       "      <td>0.926447</td>\n",
       "      <td>-0.119803</td>\n",
       "      <td>0.213256</td>\n",
       "      <td>-0.213256</td>\n",
       "    </tr>\n",
       "    <tr>\n",
       "      <th>deaths</th>\n",
       "      <td>-0.124786</td>\n",
       "      <td>0.926447</td>\n",
       "      <td>1.000000</td>\n",
       "      <td>-0.167674</td>\n",
       "      <td>0.305422</td>\n",
       "      <td>-0.305422</td>\n",
       "    </tr>\n",
       "    <tr>\n",
       "      <th>employed-sugar-intake-daily</th>\n",
       "      <td>0.269829</td>\n",
       "      <td>-0.119803</td>\n",
       "      <td>-0.167674</td>\n",
       "      <td>1.000000</td>\n",
       "      <td>-0.767497</td>\n",
       "      <td>0.767497</td>\n",
       "    </tr>\n",
       "    <tr>\n",
       "      <th>Democrats</th>\n",
       "      <td>-0.187531</td>\n",
       "      <td>0.213256</td>\n",
       "      <td>0.305422</td>\n",
       "      <td>-0.767497</td>\n",
       "      <td>1.000000</td>\n",
       "      <td>-1.000000</td>\n",
       "    </tr>\n",
       "    <tr>\n",
       "      <th>Republicans</th>\n",
       "      <td>0.187531</td>\n",
       "      <td>-0.213256</td>\n",
       "      <td>-0.305422</td>\n",
       "      <td>0.767497</td>\n",
       "      <td>-1.000000</td>\n",
       "      <td>1.000000</td>\n",
       "    </tr>\n",
       "  </tbody>\n",
       "</table>\n",
       "</div>"
      ],
      "text/plain": [
       "                                 fips     cases    deaths  \\\n",
       "fips                         1.000000 -0.118237 -0.124786   \n",
       "cases                       -0.118237  1.000000  0.926447   \n",
       "deaths                      -0.124786  0.926447  1.000000   \n",
       "employed-sugar-intake-daily  0.269829 -0.119803 -0.167674   \n",
       "Democrats                   -0.187531  0.213256  0.305422   \n",
       "Republicans                  0.187531 -0.213256 -0.305422   \n",
       "\n",
       "                             employed-sugar-intake-daily  Democrats  \\\n",
       "fips                                            0.269829  -0.187531   \n",
       "cases                                          -0.119803   0.213256   \n",
       "deaths                                         -0.167674   0.305422   \n",
       "employed-sugar-intake-daily                     1.000000  -0.767497   \n",
       "Democrats                                      -0.767497   1.000000   \n",
       "Republicans                                     0.767497  -1.000000   \n",
       "\n",
       "                             Republicans  \n",
       "fips                            0.187531  \n",
       "cases                          -0.213256  \n",
       "deaths                         -0.305422  \n",
       "employed-sugar-intake-daily     0.767497  \n",
       "Democrats                      -1.000000  \n",
       "Republicans                     1.000000  "
      ]
     },
     "execution_count": 28,
     "metadata": {},
     "output_type": "execute_result"
    }
   ],
   "source": [
    "sugar_covid_df.corr()"
   ]
  },
  {
   "cell_type": "code",
   "execution_count": 30,
   "metadata": {
    "id": "ZFaYmi8fBE6_"
   },
   "outputs": [],
   "source": [
    "sugar_covid_df.to_csv(\"covid-eda.csv\")"
   ]
  },
  {
   "cell_type": "markdown",
   "metadata": {
    "id": "M4W9aBagTHFC"
   },
   "source": []
  },
  {
   "cell_type": "markdown",
   "metadata": {
    "id": "IrRjhxe30C_q"
   },
   "source": [
    "## Modeling"
   ]
  },
  {
   "cell_type": "markdown",
   "metadata": {
    "id": "sdsYYSuy0Exu"
   },
   "source": []
  },
  {
   "cell_type": "markdown",
   "metadata": {
    "id": "ZFOuQGyn0E6w"
   },
   "source": [
    "## Conclusion\n"
   ]
  },
  {
   "cell_type": "markdown",
   "metadata": {
    "id": "cmcf2OJ40mm4"
   },
   "source": []
  }
 ],
 "metadata": {
  "colab": {
   "collapsed_sections": [],
   "machine_shape": "hm",
   "name": "Chapter7-data-science.ipynb",
   "provenance": []
  },
  "kernelspec": {
   "display_name": "Python 3 (ipykernel)",
   "language": "python",
   "name": "python3"
  },
  "language_info": {
   "codemirror_mode": {
    "name": "ipython",
    "version": 3
   },
   "file_extension": ".py",
   "mimetype": "text/x-python",
   "name": "python",
   "nbconvert_exporter": "python",
   "pygments_lexer": "ipython3",
   "version": "3.8.10"
  }
 },
 "nbformat": 4,
 "nbformat_minor": 0
}
