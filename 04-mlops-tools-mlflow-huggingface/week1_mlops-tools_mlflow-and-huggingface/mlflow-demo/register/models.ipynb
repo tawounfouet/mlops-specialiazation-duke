{
 "cells": [
  {
   "cell_type": "markdown",
   "metadata": {},
   "source": [
    "## Working with Models in a Registry\n",
    "\n",
    "For this to work, you'll need to point MLflow to a database and path. When running locally, you must do this otherwise you'll get into error conditions.\n",
    "\n",
    "Start a server with:\n",
    "\n",
    "```\n",
    "mlflow server --backend-store-uri sqlite:///mlflow.db --default-artifact-root /tmp/ --host 127.0.0.1:5000\n",
    "```\n",
    "\n",
    "The value of `--host` must match the tracking uri in the next cell."
   ]
  },
  {
   "cell_type": "code",
   "execution_count": null,
   "metadata": {},
   "outputs": [],
   "source": [
    "import mlflow\n",
    "mlflow.set_tracking_uri(\"http://127.0.0.1:5000\")\n",
    "from mlflow import MlflowClient\n",
    "client = MlflowClient()"
   ]
  },
  {
   "cell_type": "code",
   "execution_count": null,
   "metadata": {},
   "outputs": [],
   "source": [
    "# Create a new registered model\n",
    "# this model must not exist already\n",
    "client.create_registered_model(\"t5-onnx\")"
   ]
  },
  {
   "cell_type": "code",
   "execution_count": null,
   "metadata": {},
   "outputs": [],
   "source": [
    "# Delete a registered model\n",
    "client.delete_registered_model(\"t5-onnx\")"
   ]
  },
  {
   "cell_type": "code",
   "execution_count": null,
   "metadata": {},
   "outputs": [],
   "source": [
    "# This should fail if there is no previous version created\n",
    "client.update_model_version(\n",
    "    name = \"t5-small-summarizer\",\n",
    "    version = 1,\n",
    "    description = \"This is the T5 model in an ONNX version 1.6 using Opset 12\"\n",
    ")"
   ]
  },
  {
   "cell_type": "code",
   "execution_count": null,
   "metadata": {},
   "outputs": [],
   "source": [
    "client.delete_registered_model(\"t5-small-summarizer\")"
   ]
  }
 ],
 "metadata": {
  "kernelspec": {
   "display_name": "Python 3.8.13 ('mlflow')",
   "language": "python",
   "name": "python3"
  },
  "language_info": {
   "codemirror_mode": {
    "name": "ipython",
    "version": 3
   },
   "file_extension": ".py",
   "mimetype": "text/x-python",
   "name": "python",
   "nbconvert_exporter": "python",
   "pygments_lexer": "ipython3",
   "version": "3.8.13"
  },
  "orig_nbformat": 4,
  "vscode": {
   "interpreter": {
    "hash": "8bc63510bc167e8d8816c19857f9b9888864e109f1a49630617fda89607e685f"
   }
  }
 },
 "nbformat": 4,
 "nbformat_minor": 2
}
